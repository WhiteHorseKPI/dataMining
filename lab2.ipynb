{
 "cells": [
  {
   "cell_type": "code",
   "execution_count": 1,
   "id": "a9f90f43",
   "metadata": {},
   "outputs": [],
   "source": [
    "import pandas as pd\n",
    "import numpy as np\n",
    "import seaborn as sns\n",
    "import matplotlib.pyplot as plt\n",
    "\n",
    "from sklearn.preprocessing import normalize\n",
    "from sklearn.model_selection import train_test_split\n",
    "from sklearn.neighbors import KNeighborsClassifier\n",
    "from sklearn.tree import DecisionTreeClassifier, plot_tree\n",
    "from sklearn.svm import SVC\n",
    "from sklearn.ensemble import AdaBoostClassifier, RandomForestClassifier\n",
    "from sklearn.model_selection import GridSearchCV\n",
    "from sklearn.metrics import classification_report, confusion_matrix\n",
    "\n",
    "%matplotlib inline"
   ]
  },
  {
   "cell_type": "markdown",
   "id": "f1a2f5a4",
   "metadata": {},
   "source": [
    "# Task 1\n",
    "#### Download the data, display the column names and dataset size"
   ]
  },
  {
   "cell_type": "code",
   "execution_count": 2,
   "id": "e0d2d044",
   "metadata": {},
   "outputs": [
    {
     "data": {
      "text/html": [
       "<div>\n",
       "<style scoped>\n",
       "    .dataframe tbody tr th:only-of-type {\n",
       "        vertical-align: middle;\n",
       "    }\n",
       "\n",
       "    .dataframe tbody tr th {\n",
       "        vertical-align: top;\n",
       "    }\n",
       "\n",
       "    .dataframe thead th {\n",
       "        text-align: right;\n",
       "    }\n",
       "</style>\n",
       "<table border=\"1\" class=\"dataframe\">\n",
       "  <thead>\n",
       "    <tr style=\"text-align: right;\">\n",
       "      <th></th>\n",
       "      <th>the</th>\n",
       "      <th>to</th>\n",
       "      <th>ect</th>\n",
       "      <th>and</th>\n",
       "      <th>for</th>\n",
       "      <th>of</th>\n",
       "      <th>a</th>\n",
       "      <th>you</th>\n",
       "      <th>hou</th>\n",
       "      <th>in</th>\n",
       "      <th>...</th>\n",
       "      <th>connevey</th>\n",
       "      <th>jay</th>\n",
       "      <th>valued</th>\n",
       "      <th>lay</th>\n",
       "      <th>infrastructure</th>\n",
       "      <th>military</th>\n",
       "      <th>allowing</th>\n",
       "      <th>ff</th>\n",
       "      <th>dry</th>\n",
       "      <th>Prediction</th>\n",
       "    </tr>\n",
       "  </thead>\n",
       "  <tbody>\n",
       "    <tr>\n",
       "      <th>0</th>\n",
       "      <td>0</td>\n",
       "      <td>0</td>\n",
       "      <td>1</td>\n",
       "      <td>0</td>\n",
       "      <td>0</td>\n",
       "      <td>0</td>\n",
       "      <td>2</td>\n",
       "      <td>0</td>\n",
       "      <td>0</td>\n",
       "      <td>0</td>\n",
       "      <td>...</td>\n",
       "      <td>0</td>\n",
       "      <td>0</td>\n",
       "      <td>0</td>\n",
       "      <td>0</td>\n",
       "      <td>0</td>\n",
       "      <td>0</td>\n",
       "      <td>0</td>\n",
       "      <td>0</td>\n",
       "      <td>0</td>\n",
       "      <td>0</td>\n",
       "    </tr>\n",
       "    <tr>\n",
       "      <th>1</th>\n",
       "      <td>8</td>\n",
       "      <td>13</td>\n",
       "      <td>24</td>\n",
       "      <td>6</td>\n",
       "      <td>6</td>\n",
       "      <td>2</td>\n",
       "      <td>102</td>\n",
       "      <td>1</td>\n",
       "      <td>27</td>\n",
       "      <td>18</td>\n",
       "      <td>...</td>\n",
       "      <td>0</td>\n",
       "      <td>0</td>\n",
       "      <td>0</td>\n",
       "      <td>0</td>\n",
       "      <td>0</td>\n",
       "      <td>0</td>\n",
       "      <td>0</td>\n",
       "      <td>1</td>\n",
       "      <td>0</td>\n",
       "      <td>0</td>\n",
       "    </tr>\n",
       "    <tr>\n",
       "      <th>2</th>\n",
       "      <td>0</td>\n",
       "      <td>0</td>\n",
       "      <td>1</td>\n",
       "      <td>0</td>\n",
       "      <td>0</td>\n",
       "      <td>0</td>\n",
       "      <td>8</td>\n",
       "      <td>0</td>\n",
       "      <td>0</td>\n",
       "      <td>4</td>\n",
       "      <td>...</td>\n",
       "      <td>0</td>\n",
       "      <td>0</td>\n",
       "      <td>0</td>\n",
       "      <td>0</td>\n",
       "      <td>0</td>\n",
       "      <td>0</td>\n",
       "      <td>0</td>\n",
       "      <td>0</td>\n",
       "      <td>0</td>\n",
       "      <td>0</td>\n",
       "    </tr>\n",
       "    <tr>\n",
       "      <th>3</th>\n",
       "      <td>0</td>\n",
       "      <td>5</td>\n",
       "      <td>22</td>\n",
       "      <td>0</td>\n",
       "      <td>5</td>\n",
       "      <td>1</td>\n",
       "      <td>51</td>\n",
       "      <td>2</td>\n",
       "      <td>10</td>\n",
       "      <td>1</td>\n",
       "      <td>...</td>\n",
       "      <td>0</td>\n",
       "      <td>0</td>\n",
       "      <td>0</td>\n",
       "      <td>0</td>\n",
       "      <td>0</td>\n",
       "      <td>0</td>\n",
       "      <td>0</td>\n",
       "      <td>0</td>\n",
       "      <td>0</td>\n",
       "      <td>0</td>\n",
       "    </tr>\n",
       "    <tr>\n",
       "      <th>4</th>\n",
       "      <td>7</td>\n",
       "      <td>6</td>\n",
       "      <td>17</td>\n",
       "      <td>1</td>\n",
       "      <td>5</td>\n",
       "      <td>2</td>\n",
       "      <td>57</td>\n",
       "      <td>0</td>\n",
       "      <td>9</td>\n",
       "      <td>3</td>\n",
       "      <td>...</td>\n",
       "      <td>0</td>\n",
       "      <td>0</td>\n",
       "      <td>0</td>\n",
       "      <td>0</td>\n",
       "      <td>0</td>\n",
       "      <td>0</td>\n",
       "      <td>0</td>\n",
       "      <td>1</td>\n",
       "      <td>0</td>\n",
       "      <td>0</td>\n",
       "    </tr>\n",
       "  </tbody>\n",
       "</table>\n",
       "<p>5 rows × 3001 columns</p>\n",
       "</div>"
      ],
      "text/plain": [
       "   the  to  ect  and  for  of    a  you  hou  in  ...  connevey  jay  valued  \\\n",
       "0    0   0    1    0    0   0    2    0    0   0  ...         0    0       0   \n",
       "1    8  13   24    6    6   2  102    1   27  18  ...         0    0       0   \n",
       "2    0   0    1    0    0   0    8    0    0   4  ...         0    0       0   \n",
       "3    0   5   22    0    5   1   51    2   10   1  ...         0    0       0   \n",
       "4    7   6   17    1    5   2   57    0    9   3  ...         0    0       0   \n",
       "\n",
       "   lay  infrastructure  military  allowing  ff  dry  Prediction  \n",
       "0    0               0         0         0   0    0           0  \n",
       "1    0               0         0         0   1    0           0  \n",
       "2    0               0         0         0   0    0           0  \n",
       "3    0               0         0         0   0    0           0  \n",
       "4    0               0         0         0   1    0           0  \n",
       "\n",
       "[5 rows x 3001 columns]"
      ]
     },
     "execution_count": 2,
     "metadata": {},
     "output_type": "execute_result"
    }
   ],
   "source": [
    "df = pd.read_csv(\"emails.csv\", index_col = False)\n",
    "df.drop(columns='Email No.', inplace=True)\n",
    "df.head()"
   ]
  },
  {
   "cell_type": "code",
   "execution_count": 3,
   "id": "d091b6f8",
   "metadata": {},
   "outputs": [
    {
     "data": {
      "text/plain": [
       "(5172, 3001)"
      ]
     },
     "execution_count": 3,
     "metadata": {},
     "output_type": "execute_result"
    }
   ],
   "source": [
    "df.shape"
   ]
  },
  {
   "cell_type": "markdown",
   "id": "0c4da54f",
   "metadata": {},
   "source": [
    "# Task 2\n",
    "#### Handle gaps (fill or delete if possible)"
   ]
  },
  {
   "cell_type": "code",
   "execution_count": 4,
   "id": "4b2b8ee9",
   "metadata": {},
   "outputs": [],
   "source": [
    "# df.fillna(0)"
   ]
  },
  {
   "cell_type": "markdown",
   "id": "1bbb6b21",
   "metadata": {},
   "source": [
    "# Task 3\n",
    "#### Visualize the value: build a graph (heat map) that shows the correction sign between themselves and with the target variable (markup); construct histograms of the distribution of the label boxplot-and the attribute and the target variable (if the character is too much is limited to a few)"
   ]
  },
  {
   "cell_type": "code",
   "execution_count": 5,
   "id": "cc4f7589",
   "metadata": {},
   "outputs": [],
   "source": [
    "data_for_corr = df.iloc[:,:30]\n",
    "corr = data_for_corr.corr()"
   ]
  },
  {
   "cell_type": "code",
   "execution_count": 6,
   "id": "713c8f91",
   "metadata": {},
   "outputs": [
    {
     "data": {
      "text/plain": [
       "<AxesSubplot:>"
      ]
     },
     "execution_count": 6,
     "metadata": {},
     "output_type": "execute_result"
    },
    {
     "data": {
      "image/png": "[encoded data removed]",
      "text/plain": [
       "<Figure size 432x288 with 2 Axes>"
      ]
     },
     "metadata": {
      "needs_background": "light"
     },
     "output_type": "display_data"
    }
   ],
   "source": [
    "sns.heatmap(\n",
    "    corr, \n",
    "    vmin=-1, vmax=1, center=0,\n",
    "    cmap=sns.diverging_palette(20, 250, as_cmap=True),\n",
    "    square=True\n",
    ")"
   ]
  },
  {
   "cell_type": "code",
   "execution_count": 7,
   "id": "733b199e",
   "metadata": {},
   "outputs": [
    {
     "data": {
      "image/png": "[encoded data removed]",
      "text/plain": [
       "<Figure size 1440x720 with 6 Axes>"
      ]
     },
     "metadata": {
      "needs_background": "light"
     },
     "output_type": "display_data"
    }
   ],
   "source": [
    "df.iloc[:,:6].hist(color='yellow', edgecolor='black', bins=np.arange(start=0, stop=150, step=10), figsize=[20,10])\n",
    "plt.show()"
   ]
  },
  {
   "cell_type": "code",
   "execution_count": 8,
   "id": "bcc9b626",
   "metadata": {},
   "outputs": [
    {
     "data": {
      "image/png": "[encoded data removed]",
      "text/plain": [
       "<Figure size 1440x720 with 6 Axes>"
      ]
     },
     "metadata": {
      "needs_background": "light"
     },
     "output_type": "display_data"
    }
   ],
   "source": [
    "df.iloc[:,6:12].hist(color='yellow', edgecolor='black', bins=np.arange(start=0, stop=150, step=10), figsize=[20,10])\n",
    "plt.show()"
   ]
  },
  {
   "cell_type": "code",
   "execution_count": 9,
   "id": "5b456d6d",
   "metadata": {},
   "outputs": [
    {
     "data": {
      "text/plain": [
       "<AxesSubplot:xlabel='Prediction', ylabel='a'>"
      ]
     },
     "execution_count": 9,
     "metadata": {},
     "output_type": "execute_result"
    },
    {
     "data": {
      "image/png": "[encoded data removed]",
      "text/plain": [
       "<Figure size 432x288 with 1 Axes>"
      ]
     },
     "metadata": {
      "needs_background": "light"
     },
     "output_type": "display_data"
    }
   ],
   "source": [
    "sns.boxplot(x=df['Prediction'], y=df['a'])"
   ]
  },
  {
   "cell_type": "code",
   "execution_count": 10,
   "id": "e1de1ed7",
   "metadata": {},
   "outputs": [
    {
     "data": {
      "text/plain": [
       "<AxesSubplot:xlabel='Prediction', ylabel='the'>"
      ]
     },
     "execution_count": 10,
     "metadata": {},
     "output_type": "execute_result"
    },
    {
     "data": {
      "image/png": "[encoded data removed]",
      "text/plain": [
       "<Figure size 432x288 with 1 Axes>"
      ]
     },
     "metadata": {
      "needs_background": "light"
     },
     "output_type": "display_data"
    }
   ],
   "source": [
    "sns.boxplot(x=df['Prediction'], y=df['the'])"
   ]
  },
  {
   "cell_type": "code",
   "execution_count": 11,
   "id": "3b4098d0",
   "metadata": {},
   "outputs": [
    {
     "data": {
      "text/plain": [
       "<AxesSubplot:xlabel='Prediction', ylabel='infrastructure'>"
      ]
     },
     "execution_count": 11,
     "metadata": {},
     "output_type": "execute_result"
    },
    {
     "data": {
      "image/png": "[encoded data removed]",
      "text/plain": [
       "<Figure size 432x288 with 1 Axes>"
      ]
     },
     "metadata": {
      "needs_background": "light"
     },
     "output_type": "display_data"
    }
   ],
   "source": [
    "sns.boxplot(x=df['Prediction'], y=df['infrastructure'])"
   ]
  },
  {
   "cell_type": "markdown",
   "id": "8f341c64",
   "metadata": {},
   "source": [
    "# Task 4\n",
    "#### Normalize the data"
   ]
  },
  {
   "cell_type": "code",
   "execution_count": 12,
   "id": "7e7c7287",
   "metadata": {},
   "outputs": [],
   "source": [
    "df_1 = df.iloc[:,:-1]\n",
    "df_1 = pd.DataFrame(normalize(df_1), columns=df_1.columns[:])"
   ]
  },
  {
   "cell_type": "markdown",
   "id": "e41220e7",
   "metadata": {},
   "source": [
    "# Just train test split"
   ]
  },
  {
   "cell_type": "code",
   "execution_count": 13,
   "id": "4b6f6c53",
   "metadata": {},
   "outputs": [
    {
     "data": {
      "text/html": [
       "<div>\n",
       "<style scoped>\n",
       "    .dataframe tbody tr th:only-of-type {\n",
       "        vertical-align: middle;\n",
       "    }\n",
       "\n",
       "    .dataframe tbody tr th {\n",
       "        vertical-align: top;\n",
       "    }\n",
       "\n",
       "    .dataframe thead th {\n",
       "        text-align: right;\n",
       "    }\n",
       "</style>\n",
       "<table border=\"1\" class=\"dataframe\">\n",
       "  <thead>\n",
       "    <tr style=\"text-align: right;\">\n",
       "      <th></th>\n",
       "      <th>the</th>\n",
       "      <th>to</th>\n",
       "      <th>ect</th>\n",
       "      <th>and</th>\n",
       "      <th>for</th>\n",
       "      <th>of</th>\n",
       "      <th>a</th>\n",
       "      <th>you</th>\n",
       "      <th>hou</th>\n",
       "      <th>in</th>\n",
       "      <th>...</th>\n",
       "      <th>enhancements</th>\n",
       "      <th>connevey</th>\n",
       "      <th>jay</th>\n",
       "      <th>valued</th>\n",
       "      <th>lay</th>\n",
       "      <th>infrastructure</th>\n",
       "      <th>military</th>\n",
       "      <th>allowing</th>\n",
       "      <th>ff</th>\n",
       "      <th>dry</th>\n",
       "    </tr>\n",
       "  </thead>\n",
       "  <tbody>\n",
       "    <tr>\n",
       "      <th>0</th>\n",
       "      <td>0.000000</td>\n",
       "      <td>0.000000</td>\n",
       "      <td>0.094072</td>\n",
       "      <td>0.000000</td>\n",
       "      <td>0.000000</td>\n",
       "      <td>0.000000</td>\n",
       "      <td>0.188144</td>\n",
       "      <td>0.000000</td>\n",
       "      <td>0.000000</td>\n",
       "      <td>0.000000</td>\n",
       "      <td>...</td>\n",
       "      <td>0.0</td>\n",
       "      <td>0.0</td>\n",
       "      <td>0.0</td>\n",
       "      <td>0.0</td>\n",
       "      <td>0.0</td>\n",
       "      <td>0.0</td>\n",
       "      <td>0.0</td>\n",
       "      <td>0.0</td>\n",
       "      <td>0.000000</td>\n",
       "      <td>0.0</td>\n",
       "    </tr>\n",
       "    <tr>\n",
       "      <th>1</th>\n",
       "      <td>0.023453</td>\n",
       "      <td>0.038111</td>\n",
       "      <td>0.070358</td>\n",
       "      <td>0.017590</td>\n",
       "      <td>0.017590</td>\n",
       "      <td>0.005863</td>\n",
       "      <td>0.299023</td>\n",
       "      <td>0.002932</td>\n",
       "      <td>0.079153</td>\n",
       "      <td>0.052769</td>\n",
       "      <td>...</td>\n",
       "      <td>0.0</td>\n",
       "      <td>0.0</td>\n",
       "      <td>0.0</td>\n",
       "      <td>0.0</td>\n",
       "      <td>0.0</td>\n",
       "      <td>0.0</td>\n",
       "      <td>0.0</td>\n",
       "      <td>0.0</td>\n",
       "      <td>0.002932</td>\n",
       "      <td>0.0</td>\n",
       "    </tr>\n",
       "    <tr>\n",
       "      <th>2</th>\n",
       "      <td>0.000000</td>\n",
       "      <td>0.000000</td>\n",
       "      <td>0.049326</td>\n",
       "      <td>0.000000</td>\n",
       "      <td>0.000000</td>\n",
       "      <td>0.000000</td>\n",
       "      <td>0.394611</td>\n",
       "      <td>0.000000</td>\n",
       "      <td>0.000000</td>\n",
       "      <td>0.197305</td>\n",
       "      <td>...</td>\n",
       "      <td>0.0</td>\n",
       "      <td>0.0</td>\n",
       "      <td>0.0</td>\n",
       "      <td>0.0</td>\n",
       "      <td>0.0</td>\n",
       "      <td>0.0</td>\n",
       "      <td>0.0</td>\n",
       "      <td>0.0</td>\n",
       "      <td>0.000000</td>\n",
       "      <td>0.0</td>\n",
       "    </tr>\n",
       "    <tr>\n",
       "      <th>3</th>\n",
       "      <td>0.000000</td>\n",
       "      <td>0.030395</td>\n",
       "      <td>0.133737</td>\n",
       "      <td>0.000000</td>\n",
       "      <td>0.030395</td>\n",
       "      <td>0.006079</td>\n",
       "      <td>0.310026</td>\n",
       "      <td>0.012158</td>\n",
       "      <td>0.060789</td>\n",
       "      <td>0.006079</td>\n",
       "      <td>...</td>\n",
       "      <td>0.0</td>\n",
       "      <td>0.0</td>\n",
       "      <td>0.0</td>\n",
       "      <td>0.0</td>\n",
       "      <td>0.0</td>\n",
       "      <td>0.0</td>\n",
       "      <td>0.0</td>\n",
       "      <td>0.0</td>\n",
       "      <td>0.000000</td>\n",
       "      <td>0.0</td>\n",
       "    </tr>\n",
       "    <tr>\n",
       "      <th>4</th>\n",
       "      <td>0.041197</td>\n",
       "      <td>0.035312</td>\n",
       "      <td>0.100050</td>\n",
       "      <td>0.005885</td>\n",
       "      <td>0.029427</td>\n",
       "      <td>0.011771</td>\n",
       "      <td>0.335462</td>\n",
       "      <td>0.000000</td>\n",
       "      <td>0.052968</td>\n",
       "      <td>0.017656</td>\n",
       "      <td>...</td>\n",
       "      <td>0.0</td>\n",
       "      <td>0.0</td>\n",
       "      <td>0.0</td>\n",
       "      <td>0.0</td>\n",
       "      <td>0.0</td>\n",
       "      <td>0.0</td>\n",
       "      <td>0.0</td>\n",
       "      <td>0.0</td>\n",
       "      <td>0.005885</td>\n",
       "      <td>0.0</td>\n",
       "    </tr>\n",
       "    <tr>\n",
       "      <th>...</th>\n",
       "      <td>...</td>\n",
       "      <td>...</td>\n",
       "      <td>...</td>\n",
       "      <td>...</td>\n",
       "      <td>...</td>\n",
       "      <td>...</td>\n",
       "      <td>...</td>\n",
       "      <td>...</td>\n",
       "      <td>...</td>\n",
       "      <td>...</td>\n",
       "      <td>...</td>\n",
       "      <td>...</td>\n",
       "      <td>...</td>\n",
       "      <td>...</td>\n",
       "      <td>...</td>\n",
       "      <td>...</td>\n",
       "      <td>...</td>\n",
       "      <td>...</td>\n",
       "      <td>...</td>\n",
       "      <td>...</td>\n",
       "      <td>...</td>\n",
       "    </tr>\n",
       "    <tr>\n",
       "      <th>5167</th>\n",
       "      <td>0.024624</td>\n",
       "      <td>0.024624</td>\n",
       "      <td>0.024624</td>\n",
       "      <td>0.036936</td>\n",
       "      <td>0.000000</td>\n",
       "      <td>0.000000</td>\n",
       "      <td>0.393982</td>\n",
       "      <td>0.000000</td>\n",
       "      <td>0.000000</td>\n",
       "      <td>0.061560</td>\n",
       "      <td>...</td>\n",
       "      <td>0.0</td>\n",
       "      <td>0.0</td>\n",
       "      <td>0.0</td>\n",
       "      <td>0.0</td>\n",
       "      <td>0.0</td>\n",
       "      <td>0.0</td>\n",
       "      <td>0.0</td>\n",
       "      <td>0.0</td>\n",
       "      <td>0.000000</td>\n",
       "      <td>0.0</td>\n",
       "    </tr>\n",
       "    <tr>\n",
       "      <th>5168</th>\n",
       "      <td>0.075673</td>\n",
       "      <td>0.058376</td>\n",
       "      <td>0.023783</td>\n",
       "      <td>0.004324</td>\n",
       "      <td>0.012973</td>\n",
       "      <td>0.010810</td>\n",
       "      <td>0.326475</td>\n",
       "      <td>0.008648</td>\n",
       "      <td>0.006486</td>\n",
       "      <td>0.049728</td>\n",
       "      <td>...</td>\n",
       "      <td>0.0</td>\n",
       "      <td>0.0</td>\n",
       "      <td>0.0</td>\n",
       "      <td>0.0</td>\n",
       "      <td>0.0</td>\n",
       "      <td>0.0</td>\n",
       "      <td>0.0</td>\n",
       "      <td>0.0</td>\n",
       "      <td>0.002162</td>\n",
       "      <td>0.0</td>\n",
       "    </tr>\n",
       "    <tr>\n",
       "      <th>5169</th>\n",
       "      <td>0.000000</td>\n",
       "      <td>0.000000</td>\n",
       "      <td>0.032756</td>\n",
       "      <td>0.032756</td>\n",
       "      <td>0.000000</td>\n",
       "      <td>0.000000</td>\n",
       "      <td>0.360317</td>\n",
       "      <td>0.000000</td>\n",
       "      <td>0.000000</td>\n",
       "      <td>0.032756</td>\n",
       "      <td>...</td>\n",
       "      <td>0.0</td>\n",
       "      <td>0.0</td>\n",
       "      <td>0.0</td>\n",
       "      <td>0.0</td>\n",
       "      <td>0.0</td>\n",
       "      <td>0.0</td>\n",
       "      <td>0.0</td>\n",
       "      <td>0.0</td>\n",
       "      <td>0.000000</td>\n",
       "      <td>0.0</td>\n",
       "    </tr>\n",
       "    <tr>\n",
       "      <th>5170</th>\n",
       "      <td>0.016025</td>\n",
       "      <td>0.056086</td>\n",
       "      <td>0.008012</td>\n",
       "      <td>0.000000</td>\n",
       "      <td>0.016025</td>\n",
       "      <td>0.008012</td>\n",
       "      <td>0.224345</td>\n",
       "      <td>0.016025</td>\n",
       "      <td>0.000000</td>\n",
       "      <td>0.064099</td>\n",
       "      <td>...</td>\n",
       "      <td>0.0</td>\n",
       "      <td>0.0</td>\n",
       "      <td>0.0</td>\n",
       "      <td>0.0</td>\n",
       "      <td>0.0</td>\n",
       "      <td>0.0</td>\n",
       "      <td>0.0</td>\n",
       "      <td>0.0</td>\n",
       "      <td>0.008012</td>\n",
       "      <td>0.0</td>\n",
       "    </tr>\n",
       "    <tr>\n",
       "      <th>5171</th>\n",
       "      <td>0.052734</td>\n",
       "      <td>0.057528</td>\n",
       "      <td>0.011985</td>\n",
       "      <td>0.002397</td>\n",
       "      <td>0.014382</td>\n",
       "      <td>0.011985</td>\n",
       "      <td>0.354759</td>\n",
       "      <td>0.019176</td>\n",
       "      <td>0.004794</td>\n",
       "      <td>0.055131</td>\n",
       "      <td>...</td>\n",
       "      <td>0.0</td>\n",
       "      <td>0.0</td>\n",
       "      <td>0.0</td>\n",
       "      <td>0.0</td>\n",
       "      <td>0.0</td>\n",
       "      <td>0.0</td>\n",
       "      <td>0.0</td>\n",
       "      <td>0.0</td>\n",
       "      <td>0.000000</td>\n",
       "      <td>0.0</td>\n",
       "    </tr>\n",
       "  </tbody>\n",
       "</table>\n",
       "<p>5172 rows × 3000 columns</p>\n",
       "</div>"
      ],
      "text/plain": [
       "           the        to       ect       and       for        of         a  \\\n",
       "0     0.000000  0.000000  0.094072  0.000000  0.000000  0.000000  0.188144   \n",
       "1     0.023453  0.038111  0.070358  0.017590  0.017590  0.005863  0.299023   \n",
       "2     0.000000  0.000000  0.049326  0.000000  0.000000  0.000000  0.394611   \n",
       "3     0.000000  0.030395  0.133737  0.000000  0.030395  0.006079  0.310026   \n",
       "4     0.041197  0.035312  0.100050  0.005885  0.029427  0.011771  0.335462   \n",
       "...        ...       ...       ...       ...       ...       ...       ...   \n",
       "5167  0.024624  0.024624  0.024624  0.036936  0.000000  0.000000  0.393982   \n",
       "5168  0.075673  0.058376  0.023783  0.004324  0.012973  0.010810  0.326475   \n",
       "5169  0.000000  0.000000  0.032756  0.032756  0.000000  0.000000  0.360317   \n",
       "5170  0.016025  0.056086  0.008012  0.000000  0.016025  0.008012  0.224345   \n",
       "5171  0.052734  0.057528  0.011985  0.002397  0.014382  0.011985  0.354759   \n",
       "\n",
       "           you       hou        in  ...  enhancements  connevey  jay  valued  \\\n",
       "0     0.000000  0.000000  0.000000  ...           0.0       0.0  0.0     0.0   \n",
       "1     0.002932  0.079153  0.052769  ...           0.0       0.0  0.0     0.0   \n",
       "2     0.000000  0.000000  0.197305  ...           0.0       0.0  0.0     0.0   \n",
       "3     0.012158  0.060789  0.006079  ...           0.0       0.0  0.0     0.0   \n",
       "4     0.000000  0.052968  0.017656  ...           0.0       0.0  0.0     0.0   \n",
       "...        ...       ...       ...  ...           ...       ...  ...     ...   \n",
       "5167  0.000000  0.000000  0.061560  ...           0.0       0.0  0.0     0.0   \n",
       "5168  0.008648  0.006486  0.049728  ...           0.0       0.0  0.0     0.0   \n",
       "5169  0.000000  0.000000  0.032756  ...           0.0       0.0  0.0     0.0   \n",
       "5170  0.016025  0.000000  0.064099  ...           0.0       0.0  0.0     0.0   \n",
       "5171  0.019176  0.004794  0.055131  ...           0.0       0.0  0.0     0.0   \n",
       "\n",
       "      lay  infrastructure  military  allowing        ff  dry  \n",
       "0     0.0             0.0       0.0       0.0  0.000000  0.0  \n",
       "1     0.0             0.0       0.0       0.0  0.002932  0.0  \n",
       "2     0.0             0.0       0.0       0.0  0.000000  0.0  \n",
       "3     0.0             0.0       0.0       0.0  0.000000  0.0  \n",
       "4     0.0             0.0       0.0       0.0  0.005885  0.0  \n",
       "...   ...             ...       ...       ...       ...  ...  \n",
       "5167  0.0             0.0       0.0       0.0  0.000000  0.0  \n",
       "5168  0.0             0.0       0.0       0.0  0.002162  0.0  \n",
       "5169  0.0             0.0       0.0       0.0  0.000000  0.0  \n",
       "5170  0.0             0.0       0.0       0.0  0.008012  0.0  \n",
       "5171  0.0             0.0       0.0       0.0  0.000000  0.0  \n",
       "\n",
       "[5172 rows x 3000 columns]"
      ]
     },
     "execution_count": 13,
     "metadata": {},
     "output_type": "execute_result"
    }
   ],
   "source": [
    "features = df_1.iloc[:,:]\n",
    "features"
   ]
  },
  {
   "cell_type": "code",
   "execution_count": 14,
   "id": "f56d8b50",
   "metadata": {},
   "outputs": [
    {
     "data": {
      "text/plain": [
       "0       0\n",
       "1       0\n",
       "2       0\n",
       "3       0\n",
       "4       0\n",
       "       ..\n",
       "5167    0\n",
       "5168    0\n",
       "5169    1\n",
       "5170    1\n",
       "5171    0\n",
       "Name: Prediction, Length: 5172, dtype: int64"
      ]
     },
     "execution_count": 14,
     "metadata": {},
     "output_type": "execute_result"
    }
   ],
   "source": [
    "labels = df.iloc[:,-1]\n",
    "labels"
   ]
  },
  {
   "cell_type": "code",
   "execution_count": 15,
   "id": "eb6b5684",
   "metadata": {},
   "outputs": [],
   "source": [
    "X_train, X_test, Y_train, Y_test = train_test_split(features, labels, test_size = 0.20, random_state = 0)"
   ]
  },
  {
   "cell_type": "markdown",
   "id": "0224dcd9",
   "metadata": {},
   "source": [
    "# Task 5\n",
    "### To train the following classifiers:\n",
    "### - kNN"
   ]
  },
  {
   "cell_type": "code",
   "execution_count": 16,
   "id": "c2ebd109",
   "metadata": {
    "scrolled": true
   },
   "outputs": [
    {
     "name": "stdout",
     "output_type": "stream",
     "text": [
      "Num neighbors: 1, Error rate = 0.10821256038647344\n",
      "Num neighbors: 2, Error rate = 0.11400966183574879\n",
      "Num neighbors: 3, Error rate = 0.13333333333333333\n",
      "Num neighbors: 4, Error rate = 0.13140096618357489\n",
      "Num neighbors: 5, Error rate = 0.13429951690821257\n",
      "Num neighbors: 6, Error rate = 0.13623188405797101\n",
      "Num neighbors: 7, Error rate = 0.1468599033816425\n",
      "Num neighbors: 8, Error rate = 0.13719806763285025\n",
      "Num neighbors: 9, Error rate = 0.14299516908212562\n",
      "Num neighbors: 10, Error rate = 0.1468599033816425\n",
      "Num neighbors: 11, Error rate = 0.14879227053140096\n",
      "Num neighbors: 12, Error rate = 0.14782608695652175\n",
      "Num neighbors: 13, Error rate = 0.15265700483091788\n",
      "Num neighbors: 14, Error rate = 0.1565217391304348\n"
     ]
    }
   ],
   "source": [
    "for num in range(1, 15):\n",
    "    knn = KNeighborsClassifier(n_neighbors=num, n_jobs=-1)\n",
    "    knn.fit(X_train,Y_train)\n",
    "    knn_pred = knn.predict(X_test)\n",
    "    print(f'Num neighbors: {num}, Error rate = {np.mean(knn_pred != Y_test)}')"
   ]
  },
  {
   "cell_type": "markdown",
   "id": "307d907f",
   "metadata": {},
   "source": [
    "Best result with 1 neighbor"
   ]
  },
  {
   "cell_type": "code",
   "execution_count": 17,
   "id": "204fcbcb",
   "metadata": {},
   "outputs": [
    {
     "name": "stdout",
     "output_type": "stream",
     "text": [
      "Confusion matrix: \n",
      "[[688  62]\n",
      " [ 50 235]]\n",
      "Classification report: \n",
      "              precision    recall  f1-score   support\n",
      "\n",
      "           0       0.93      0.92      0.92       750\n",
      "           1       0.79      0.82      0.81       285\n",
      "\n",
      "    accuracy                           0.89      1035\n",
      "   macro avg       0.86      0.87      0.87      1035\n",
      "weighted avg       0.89      0.89      0.89      1035\n",
      "\n"
     ]
    }
   ],
   "source": [
    "knn = KNeighborsClassifier(n_neighbors=1, n_jobs=-1)\n",
    "knn.fit(X_train, Y_train)\n",
    "knn_pred = knn.predict(X_test)\n",
    "print(f'Confusion matrix: \\n{confusion_matrix(Y_test, knn_pred)}')\n",
    "print(f'Classification report: \\n{classification_report(Y_test, knn_pred)}')"
   ]
  },
  {
   "cell_type": "markdown",
   "id": "260c0f39",
   "metadata": {},
   "source": [
    "### - decision tree"
   ]
  },
  {
   "cell_type": "code",
   "execution_count": 18,
   "id": "595ec030",
   "metadata": {},
   "outputs": [
    {
     "name": "stdout",
     "output_type": "stream",
     "text": [
      "Confusion matrix: \n",
      "[[705  45]\n",
      " [ 52 233]]\n",
      "Classification report: \n",
      "              precision    recall  f1-score   support\n",
      "\n",
      "           0       0.93      0.94      0.94       750\n",
      "           1       0.84      0.82      0.83       285\n",
      "\n",
      "    accuracy                           0.91      1035\n",
      "   macro avg       0.88      0.88      0.88      1035\n",
      "weighted avg       0.91      0.91      0.91      1035\n",
      "\n"
     ]
    }
   ],
   "source": [
    "tree = DecisionTreeClassifier(max_depth=9)\n",
    "tree.fit(X_train, Y_train)\n",
    "dec_tree_pred = tree.predict(X_test)\n",
    "print(f'Confusion matrix: \\n{confusion_matrix(Y_test, dec_tree_pred)}')\n",
    "print(f'Classification report: \\n{classification_report(Y_test, dec_tree_pred)}')"
   ]
  },
  {
   "cell_type": "code",
   "execution_count": 19,
   "id": "c7eafd90",
   "metadata": {},
   "outputs": [
    {
     "data": {
      "image/png": "[encoded data removed]",
      "text/plain": [
       "<Figure size 432x288 with 1 Axes>"
      ]
     },
     "metadata": {
      "needs_background": "light"
     },
     "output_type": "display_data"
    }
   ],
   "source": [
    "plot_tree(tree)\n",
    "plt.show()"
   ]
  },
  {
   "cell_type": "markdown",
   "id": "dd163f26",
   "metadata": {},
   "source": [
    "### - SVM\n",
    "\n",
    "Linear kernel<br>\n",
    "Polynomial kernel<br>\n",
    "RBF kernel<br>\n",
    "Sigmoid kernel<br>"
   ]
  },
  {
   "cell_type": "code",
   "execution_count": 20,
   "id": "4aa2a92d",
   "metadata": {},
   "outputs": [
    {
     "name": "stdout",
     "output_type": "stream",
     "text": [
      "Confusion matrix: \n",
      "[[702  48]\n",
      " [ 53 232]]\n",
      "Classification report: \n",
      "              precision    recall  f1-score   support\n",
      "\n",
      "           0       0.93      0.94      0.93       750\n",
      "           1       0.83      0.81      0.82       285\n",
      "\n",
      "    accuracy                           0.90      1035\n",
      "   macro avg       0.88      0.88      0.88      1035\n",
      "weighted avg       0.90      0.90      0.90      1035\n",
      "\n"
     ]
    }
   ],
   "source": [
    "svm_linear = SVC(kernel='linear')\n",
    "svm_linear.fit(X_train, Y_train)\n",
    "svm_linear_pred = svm_linear.predict(X_test)\n",
    "print(f'Confusion matrix: \\n{confusion_matrix(Y_test, svm_linear_pred)}')\n",
    "print(f'Classification report: \\n{classification_report(Y_test, svm_linear_pred)}')"
   ]
  },
  {
   "cell_type": "code",
   "execution_count": 21,
   "id": "d475a2c9",
   "metadata": {},
   "outputs": [
    {
     "name": "stdout",
     "output_type": "stream",
     "text": [
      "Confusion matrix: \n",
      "[[702  48]\n",
      " [ 53 232]]\n",
      "Classification report: \n",
      "              precision    recall  f1-score   support\n",
      "\n",
      "           0       0.93      0.94      0.93       750\n",
      "           1       0.83      0.81      0.82       285\n",
      "\n",
      "    accuracy                           0.90      1035\n",
      "   macro avg       0.88      0.88      0.88      1035\n",
      "weighted avg       0.90      0.90      0.90      1035\n",
      "\n"
     ]
    }
   ],
   "source": [
    "svm_poly = SVC(kernel='poly')\n",
    "svm_poly.fit(X_train, Y_train)\n",
    "svm_poly_pred = svm_linear.predict(X_test)\n",
    "print(f'Confusion matrix: \\n{confusion_matrix(Y_test, svm_poly_pred)}')\n",
    "print(f'Classification report: \\n{classification_report(Y_test, svm_poly_pred)}')"
   ]
  },
  {
   "cell_type": "code",
   "execution_count": 22,
   "id": "c0b1bb6f",
   "metadata": {},
   "outputs": [
    {
     "name": "stdout",
     "output_type": "stream",
     "text": [
      "Confusion matrix: \n",
      "[[702  48]\n",
      " [ 53 232]]\n",
      "Classification report: \n",
      "              precision    recall  f1-score   support\n",
      "\n",
      "           0       0.93      0.94      0.93       750\n",
      "           1       0.83      0.81      0.82       285\n",
      "\n",
      "    accuracy                           0.90      1035\n",
      "   macro avg       0.88      0.88      0.88      1035\n",
      "weighted avg       0.90      0.90      0.90      1035\n",
      "\n"
     ]
    }
   ],
   "source": [
    "svm_rbf = SVC(kernel='rbf')\n",
    "svm_rbf.fit(X_train, Y_train)\n",
    "svm_rbf_pred = svm_linear.predict(X_test)\n",
    "print(f'Confusion matrix: \\n{confusion_matrix(Y_test, svm_rbf_pred)}')\n",
    "print(f'Classification report: \\n{classification_report(Y_test, svm_rbf_pred)}')"
   ]
  },
  {
   "cell_type": "code",
   "execution_count": 23,
   "id": "004be6b7",
   "metadata": {},
   "outputs": [
    {
     "name": "stdout",
     "output_type": "stream",
     "text": [
      "Confusion matrix: \n",
      "[[702  48]\n",
      " [ 53 232]]\n",
      "Classification report: \n",
      "              precision    recall  f1-score   support\n",
      "\n",
      "           0       0.93      0.94      0.93       750\n",
      "           1       0.83      0.81      0.82       285\n",
      "\n",
      "    accuracy                           0.90      1035\n",
      "   macro avg       0.88      0.88      0.88      1035\n",
      "weighted avg       0.90      0.90      0.90      1035\n",
      "\n"
     ]
    }
   ],
   "source": [
    "svm_sigmoid = SVC(kernel='sigmoid')\n",
    "svm_sigmoid.fit(X_train, Y_train)\n",
    "svm_sigmoid_pred = svm_linear.predict(X_test)\n",
    "print(f'Confusion matrix: \\n{confusion_matrix(Y_test, svm_sigmoid_pred)}')\n",
    "print(f'Classification report: \\n{classification_report(Y_test, svm_sigmoid_pred)}')"
   ]
  },
  {
   "cell_type": "markdown",
   "id": "ea301e95",
   "metadata": {},
   "source": [
    "#### SVM Gridsearch"
   ]
  },
  {
   "cell_type": "code",
   "execution_count": 25,
   "id": "62b6a160",
   "metadata": {},
   "outputs": [
    {
     "name": "stdout",
     "output_type": "stream",
     "text": [
      "Fitting 5 folds for each of 9 candidates, totalling 45 fits\n",
      "[CV 1/5] END .......................C=1, gamma=1, kernel=rbf; total time=  11.9s\n",
      "[CV 2/5] END .......................C=1, gamma=1, kernel=rbf; total time=  12.3s\n",
      "[CV 3/5] END .......................C=1, gamma=1, kernel=rbf; total time=  12.0s\n",
      "[CV 4/5] END .......................C=1, gamma=1, kernel=rbf; total time=  14.2s\n",
      "[CV 5/5] END .......................C=1, gamma=1, kernel=rbf; total time=  15.2s\n",
      "[CV 1/5] END .....................C=1, gamma=0.1, kernel=rbf; total time=  21.6s\n",
      "[CV 2/5] END .....................C=1, gamma=0.1, kernel=rbf; total time=  21.9s\n",
      "[CV 3/5] END .....................C=1, gamma=0.1, kernel=rbf; total time=  21.9s\n",
      "[CV 4/5] END .....................C=1, gamma=0.1, kernel=rbf; total time=  21.8s\n",
      "[CV 5/5] END .....................C=1, gamma=0.1, kernel=rbf; total time=  22.1s\n",
      "[CV 1/5] END ....................C=1, gamma=0.01, kernel=rbf; total time=  23.9s\n",
      "[CV 2/5] END ....................C=1, gamma=0.01, kernel=rbf; total time=  22.8s\n",
      "[CV 3/5] END ....................C=1, gamma=0.01, kernel=rbf; total time=  22.7s\n",
      "[CV 4/5] END ....................C=1, gamma=0.01, kernel=rbf; total time=  23.3s\n",
      "[CV 5/5] END ....................C=1, gamma=0.01, kernel=rbf; total time=  25.4s\n",
      "[CV 1/5] END ......................C=10, gamma=1, kernel=rbf; total time=   9.7s\n",
      "[CV 2/5] END ......................C=10, gamma=1, kernel=rbf; total time=   9.4s\n",
      "[CV 3/5] END ......................C=10, gamma=1, kernel=rbf; total time=   9.5s\n",
      "[CV 4/5] END ......................C=10, gamma=1, kernel=rbf; total time=  10.1s\n",
      "[CV 5/5] END ......................C=10, gamma=1, kernel=rbf; total time=   9.6s\n",
      "[CV 1/5] END ....................C=10, gamma=0.1, kernel=rbf; total time=  14.6s\n",
      "[CV 2/5] END ....................C=10, gamma=0.1, kernel=rbf; total time=  14.7s\n",
      "[CV 3/5] END ....................C=10, gamma=0.1, kernel=rbf; total time=  14.6s\n",
      "[CV 4/5] END ....................C=10, gamma=0.1, kernel=rbf; total time=  15.6s\n",
      "[CV 5/5] END ....................C=10, gamma=0.1, kernel=rbf; total time=  14.3s\n",
      "[CV 1/5] END ...................C=10, gamma=0.01, kernel=rbf; total time=  21.4s\n",
      "[CV 2/5] END ...................C=10, gamma=0.01, kernel=rbf; total time=  21.5s\n",
      "[CV 3/5] END ...................C=10, gamma=0.01, kernel=rbf; total time=  21.6s\n",
      "[CV 4/5] END ...................C=10, gamma=0.01, kernel=rbf; total time=  21.3s\n",
      "[CV 5/5] END ...................C=10, gamma=0.01, kernel=rbf; total time=  20.7s\n",
      "[CV 1/5] END .....................C=100, gamma=1, kernel=rbf; total time=   7.9s\n",
      "[CV 2/5] END .....................C=100, gamma=1, kernel=rbf; total time=   7.4s\n",
      "[CV 3/5] END .....................C=100, gamma=1, kernel=rbf; total time=   7.4s\n",
      "[CV 4/5] END .....................C=100, gamma=1, kernel=rbf; total time=   7.2s\n",
      "[CV 5/5] END .....................C=100, gamma=1, kernel=rbf; total time=   7.7s\n",
      "[CV 1/5] END ...................C=100, gamma=0.1, kernel=rbf; total time=   9.2s\n",
      "[CV 2/5] END ...................C=100, gamma=0.1, kernel=rbf; total time=   9.0s\n",
      "[CV 3/5] END ...................C=100, gamma=0.1, kernel=rbf; total time=   8.9s\n",
      "[CV 4/5] END ...................C=100, gamma=0.1, kernel=rbf; total time=   9.1s\n",
      "[CV 5/5] END ...................C=100, gamma=0.1, kernel=rbf; total time=   8.8s\n",
      "[CV 1/5] END ..................C=100, gamma=0.01, kernel=rbf; total time=  14.4s\n",
      "[CV 2/5] END ..................C=100, gamma=0.01, kernel=rbf; total time=  14.1s\n",
      "[CV 3/5] END ..................C=100, gamma=0.01, kernel=rbf; total time=  14.0s\n",
      "[CV 4/5] END ..................C=100, gamma=0.01, kernel=rbf; total time=  14.2s\n",
      "[CV 5/5] END ..................C=100, gamma=0.01, kernel=rbf; total time=  14.1s\n",
      "{'C': 100, 'gamma': 1, 'kernel': 'rbf'}\n"
     ]
    }
   ],
   "source": [
    "param_grid = {'C': [1, 10, 100], \n",
    "              'gamma': [1, 0.1, 0.01], \n",
    "              'kernel': ['rbf']} \n",
    "svm_grid = GridSearchCV(SVC(), param_grid, refit=True, verbose=3)\n",
    "svm_grid.fit(X_train, Y_train)\n",
    "print(svm_grid.best_params_)"
   ]
  },
  {
   "cell_type": "code",
   "execution_count": 26,
   "id": "6b7559ca",
   "metadata": {},
   "outputs": [
    {
     "name": "stdout",
     "output_type": "stream",
     "text": [
      "Confusion matrix: \n",
      "[[731  19]\n",
      " [ 11 274]]\n",
      "Classification report: \n",
      "              precision    recall  f1-score   support\n",
      "\n",
      "           0       0.99      0.97      0.98       750\n",
      "           1       0.94      0.96      0.95       285\n",
      "\n",
      "    accuracy                           0.97      1035\n",
      "   macro avg       0.96      0.97      0.96      1035\n",
      "weighted avg       0.97      0.97      0.97      1035\n",
      "\n"
     ]
    }
   ],
   "source": [
    "svm_grid_pred = svm_grid.predict(X_test)\n",
    "print(f'Confusion matrix: \\n{confusion_matrix(Y_test, svm_grid_pred)}')\n",
    "print(f'Classification report: \\n{classification_report(Y_test, svm_grid_pred)}')"
   ]
  },
  {
   "cell_type": "markdown",
   "id": "43914d6e",
   "metadata": {},
   "source": [
    "### Random Forest"
   ]
  },
  {
   "cell_type": "code",
   "execution_count": 27,
   "id": "65cf3af7",
   "metadata": {},
   "outputs": [
    {
     "name": "stdout",
     "output_type": "stream",
     "text": [
      "Confusion matrix: \n",
      "[[737  13]\n",
      " [ 17 268]]\n",
      "Classification report: \n",
      "              precision    recall  f1-score   support\n",
      "\n",
      "           0       0.98      0.98      0.98       750\n",
      "           1       0.95      0.94      0.95       285\n",
      "\n",
      "    accuracy                           0.97      1035\n",
      "   macro avg       0.97      0.96      0.96      1035\n",
      "weighted avg       0.97      0.97      0.97      1035\n",
      "\n"
     ]
    }
   ],
   "source": [
    "rand_for = RandomForestClassifier(random_state = 0)\n",
    "rand_for.fit(X_train, Y_train)\n",
    "rand_for_pred = rand_for.predict(X_test)\n",
    "print(f'Confusion matrix: \\n{confusion_matrix(Y_test, rand_for_pred)}')\n",
    "print(f'Classification report: \\n{classification_report(Y_test, rand_for_pred)}')"
   ]
  },
  {
   "cell_type": "markdown",
   "id": "3097995d",
   "metadata": {},
   "source": [
    "#### Random Forest Gridsearch"
   ]
  },
  {
   "cell_type": "code",
   "execution_count": 28,
   "id": "ce1256a1",
   "metadata": {
    "scrolled": true
   },
   "outputs": [
    {
     "name": "stdout",
     "output_type": "stream",
     "text": [
      "{'max_depth': 16, 'n_estimators': 256}\n"
     ]
    }
   ],
   "source": [
    "param_grid = {'n_estimators': [64, 128, 256],\n",
    "              'max_depth' : [2, 8, 16]}\n",
    "rand_for_grid = GridSearchCV(RandomForestClassifier(), param_grid, n_jobs=-1)\n",
    "rand_for_grid.fit(X_train, Y_train)\n",
    "print(rand_for_grid.best_params_)"
   ]
  },
  {
   "cell_type": "code",
   "execution_count": 30,
   "id": "d1d49e55",
   "metadata": {},
   "outputs": [
    {
     "name": "stdout",
     "output_type": "stream",
     "text": [
      "Confusion matrix: \n",
      "[[737  13]\n",
      " [ 23 262]]\n",
      "Classification report: \n",
      "              precision    recall  f1-score   support\n",
      "\n",
      "           0       0.97      0.98      0.98       750\n",
      "           1       0.95      0.92      0.94       285\n",
      "\n",
      "    accuracy                           0.97      1035\n",
      "   macro avg       0.96      0.95      0.96      1035\n",
      "weighted avg       0.97      0.97      0.97      1035\n",
      "\n"
     ]
    }
   ],
   "source": [
    "prediction = rand_for_grid.predict(X_test)\n",
    "rand_for_grid_pred = rand_for_grid.predict(X_test)\n",
    "print(f'Confusion matrix: \\n{confusion_matrix(Y_test, rand_for_grid_pred)}')\n",
    "print(f'Classification report: \\n{classification_report(Y_test, rand_for_grid_pred)}')"
   ]
  },
  {
   "cell_type": "markdown",
   "id": "2df1c84f",
   "metadata": {},
   "source": [
    "### AdaBoost"
   ]
  },
  {
   "cell_type": "code",
   "execution_count": 31,
   "id": "8a59d55f",
   "metadata": {},
   "outputs": [
    {
     "name": "stdout",
     "output_type": "stream",
     "text": [
      "Confusion matrix: \n",
      "[[717  33]\n",
      " [ 23 262]]\n",
      "Classification report: \n",
      "              precision    recall  f1-score   support\n",
      "\n",
      "           0       0.97      0.96      0.96       750\n",
      "           1       0.89      0.92      0.90       285\n",
      "\n",
      "    accuracy                           0.95      1035\n",
      "   macro avg       0.93      0.94      0.93      1035\n",
      "weighted avg       0.95      0.95      0.95      1035\n",
      "\n"
     ]
    }
   ],
   "source": [
    "ada_boost = AdaBoostClassifier(random_state=0)\n",
    "ada_boost.fit(X_train, Y_train)\n",
    "ada_boost_pred = ada_boost.predict(X_test)\n",
    "print(f'Confusion matrix: \\n{confusion_matrix(Y_test, ada_boost_pred)}')\n",
    "print(f'Classification report: \\n{classification_report(Y_test, ada_boost_pred)}')"
   ]
  },
  {
   "cell_type": "markdown",
   "id": "42e3eeaa",
   "metadata": {},
   "source": [
    "#### AdaBoost Gridsearch"
   ]
  },
  {
   "cell_type": "code",
   "execution_count": 33,
   "id": "384aa82e",
   "metadata": {},
   "outputs": [
    {
     "name": "stdout",
     "output_type": "stream",
     "text": [
      "{'learning_rate': 1, 'n_estimators': 200}\n"
     ]
    }
   ],
   "source": [
    "param_grid = {'n_estimators': [100, 200, 300], \n",
    "              'learning_rate' : [0.01, 0.1, 1]}\n",
    "ada_boost_grid = GridSearchCV(AdaBoostClassifier(), param_grid, n_jobs=-1)\n",
    "ada_boost_grid.fit(X_train, Y_train)\n",
    "print(ada_boost_grid.best_params_)"
   ]
  },
  {
   "cell_type": "code",
   "execution_count": 34,
   "id": "bc3bdd21",
   "metadata": {},
   "outputs": [
    {
     "name": "stdout",
     "output_type": "stream",
     "text": [
      "Confusion matrix: \n",
      "[[728  22]\n",
      " [ 18 267]]\n",
      "Classification report: \n",
      "              precision    recall  f1-score   support\n",
      "\n",
      "           0       0.98      0.97      0.97       750\n",
      "           1       0.92      0.94      0.93       285\n",
      "\n",
      "    accuracy                           0.96      1035\n",
      "   macro avg       0.95      0.95      0.95      1035\n",
      "weighted avg       0.96      0.96      0.96      1035\n",
      "\n"
     ]
    }
   ],
   "source": [
    "ada_boost_grid_pred = ada_boost_grid.predict(X_test)\n",
    "print(f'Confusion matrix: \\n{confusion_matrix(Y_test, ada_boost_grid_pred)}')\n",
    "print(f'Classification report: \\n{classification_report(Y_test, ada_boost_grid_pred)}')"
   ]
  },
  {
   "cell_type": "code",
   "execution_count": null,
   "id": "889b45b3",
   "metadata": {},
   "outputs": [],
   "source": []
  }
 ],
 "metadata": {
  "kernelspec": {
   "display_name": "Python 3",
   "language": "python",
   "name": "python3"
  },
  "language_info": {
   "codemirror_mode": {
    "name": "ipython",
    "version": 3
   },
   "file_extension": ".py",
   "mimetype": "text/x-python",
   "name": "python",
   "nbconvert_exporter": "python",
   "pygments_lexer": "ipython3",
   "version": "3.8.8"
  }
 },
 "nbformat": 4,
 "nbformat_minor": 5
}
